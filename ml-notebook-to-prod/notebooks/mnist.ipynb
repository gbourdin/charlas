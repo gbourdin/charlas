{
 "cells": [
  {
   "cell_type": "code",
   "execution_count": 121,
   "metadata": {},
   "outputs": [],
   "source": [
    "import tensorflow as tf\n",
    "mnist = tf.keras.datasets.mnist\n",
    "\n",
    "(x_train, y_train),(x_test, y_test) = mnist.load_data()\n",
    "x_train, x_test = x_train / 255.0, x_test / 255.0  # Keep the values the same but convert to dtype('float64')\n",
    "# x_train = x_train / 255.0"
   ]
  },
  {
   "cell_type": "code",
   "execution_count": 122,
   "metadata": {},
   "outputs": [],
   "source": [
    "model = tf.keras.models.Sequential([\n",
    "  tf.keras.layers.Flatten(),\n",
    "  tf.keras.layers.Dense(512, activation=tf.nn.relu),\n",
    "  tf.keras.layers.Dropout(0.2),\n",
    "  tf.keras.layers.Dense(10, activation=tf.nn.softmax)\n",
    "])"
   ]
  },
  {
   "cell_type": "code",
   "execution_count": 123,
   "metadata": {},
   "outputs": [],
   "source": [
    "model.compile(optimizer='adam',\n",
    "              loss='sparse_categorical_crossentropy',\n",
    "              metrics=['accuracy'])"
   ]
  },
  {
   "cell_type": "code",
   "execution_count": 124,
   "metadata": {},
   "outputs": [
    {
     "name": "stdout",
     "output_type": "stream",
     "text": [
      "Train on 60000 samples, validate on 10000 samples\n",
      "Epoch 1/25\n",
      "60000/60000 [==============================] - 14s 235us/step - loss: 0.2024 - acc: 0.9401 - val_loss: 0.0994 - val_acc: 0.9695\n",
      "Epoch 2/25\n",
      "60000/60000 [==============================] - 16s 258us/step - loss: 0.0832 - acc: 0.9750 - val_loss: 0.0823 - val_acc: 0.9745\n",
      "Epoch 3/25\n",
      "60000/60000 [==============================] - 15s 247us/step - loss: 0.0533 - acc: 0.9831 - val_loss: 0.0680 - val_acc: 0.9788\n",
      "Epoch 4/25\n",
      "60000/60000 [==============================] - 16s 269us/step - loss: 0.0376 - acc: 0.9883 - val_loss: 0.0658 - val_acc: 0.9793\n",
      "Epoch 5/25\n",
      "60000/60000 [==============================] - 16s 264us/step - loss: 0.0281 - acc: 0.9908 - val_loss: 0.0634 - val_acc: 0.9818\n",
      "Epoch 6/25\n",
      "60000/60000 [==============================] - 16s 274us/step - loss: 0.0223 - acc: 0.9924 - val_loss: 0.0744 - val_acc: 0.9788\n",
      "Epoch 7/25\n",
      "60000/60000 [==============================] - 16s 265us/step - loss: 0.0156 - acc: 0.9950 - val_loss: 0.0772 - val_acc: 0.9788\n",
      "Epoch 8/25\n",
      "60000/60000 [==============================] - 17s 280us/step - loss: 0.0157 - acc: 0.9948 - val_loss: 0.0910 - val_acc: 0.9777\n",
      "Epoch 9/25\n",
      "60000/60000 [==============================] - 16s 267us/step - loss: 0.0119 - acc: 0.9958 - val_loss: 0.0923 - val_acc: 0.9803\n",
      "Epoch 10/25\n",
      "60000/60000 [==============================] - 17s 281us/step - loss: 0.0115 - acc: 0.9961 - val_loss: 0.0825 - val_acc: 0.9809\n",
      "Epoch 11/25\n",
      "60000/60000 [==============================] - 15s 257us/step - loss: 0.0093 - acc: 0.9967 - val_loss: 0.0894 - val_acc: 0.9817\n",
      "Epoch 12/25\n",
      "60000/60000 [==============================] - 14s 231us/step - loss: 0.0081 - acc: 0.9973 - val_loss: 0.0848 - val_acc: 0.9821\n",
      "Epoch 13/25\n",
      "60000/60000 [==============================] - 13s 217us/step - loss: 0.0090 - acc: 0.9974 - val_loss: 0.0972 - val_acc: 0.9799\n",
      "Epoch 14/25\n",
      "60000/60000 [==============================] - 13s 215us/step - loss: 0.0088 - acc: 0.9971 - val_loss: 0.1000 - val_acc: 0.9794\n",
      "Epoch 15/25\n",
      "60000/60000 [==============================] - 12s 196us/step - loss: 0.0087 - acc: 0.9971 - val_loss: 0.0940 - val_acc: 0.9813\n",
      "Epoch 16/25\n",
      "60000/60000 [==============================] - 12s 198us/step - loss: 0.0066 - acc: 0.9980 - val_loss: 0.1179 - val_acc: 0.9785\n",
      "Epoch 17/25\n",
      "60000/60000 [==============================] - 13s 218us/step - loss: 0.0072 - acc: 0.9979 - val_loss: 0.1196 - val_acc: 0.9799\n",
      "Epoch 18/25\n",
      "60000/60000 [==============================] - 12s 204us/step - loss: 0.0071 - acc: 0.9978 - val_loss: 0.1161 - val_acc: 0.9788\n",
      "Epoch 19/25\n",
      "60000/60000 [==============================] - 11s 186us/step - loss: 0.0062 - acc: 0.9980 - val_loss: 0.0931 - val_acc: 0.9831\n",
      "Epoch 20/25\n",
      "60000/60000 [==============================] - 16s 265us/step - loss: 0.0068 - acc: 0.9980 - val_loss: 0.1123 - val_acc: 0.9797\n",
      "Epoch 21/25\n",
      "60000/60000 [==============================] - 12s 204us/step - loss: 0.0045 - acc: 0.9986 - val_loss: 0.1175 - val_acc: 0.9810\n",
      "Epoch 22/25\n",
      "60000/60000 [==============================] - 12s 195us/step - loss: 0.0070 - acc: 0.9979 - val_loss: 0.1224 - val_acc: 0.9808\n",
      "Epoch 23/25\n",
      "60000/60000 [==============================] - 12s 202us/step - loss: 0.0050 - acc: 0.9984 - val_loss: 0.1045 - val_acc: 0.9836\n",
      "Epoch 24/25\n",
      "60000/60000 [==============================] - 11s 187us/step - loss: 0.0045 - acc: 0.9986 - val_loss: 0.1096 - val_acc: 0.9819\n",
      "Epoch 25/25\n",
      "60000/60000 [==============================] - 13s 213us/step - loss: 0.0058 - acc: 0.9984 - val_loss: 0.1099 - val_acc: 0.9829\n"
     ]
    },
    {
     "data": {
      "text/plain": [
       "<tensorflow.python.keras.callbacks.History at 0x7faa75a45e48>"
      ]
     },
     "execution_count": 124,
     "metadata": {},
     "output_type": "execute_result"
    }
   ],
   "source": [
    "model.fit(x_train, y_train, epochs=25, validation_data=(x_test, y_test))"
   ]
  },
  {
   "cell_type": "code",
   "execution_count": 126,
   "metadata": {},
   "outputs": [
    {
     "name": "stdout",
     "output_type": "stream",
     "text": [
      "10000/10000 [==============================] - 1s 52us/step\n"
     ]
    },
    {
     "data": {
      "text/plain": [
       "[0.1099198426593226, 0.9829]"
      ]
     },
     "execution_count": 126,
     "metadata": {},
     "output_type": "execute_result"
    }
   ],
   "source": [
    "model.evaluate(x_test, y_test)"
   ]
  },
  {
   "cell_type": "code",
   "execution_count": 127,
   "metadata": {},
   "outputs": [
    {
     "data": {
      "text/plain": [
       "(10000,)"
      ]
     },
     "execution_count": 127,
     "metadata": {},
     "output_type": "execute_result"
    }
   ],
   "source": [
    "y_test.shape"
   ]
  },
  {
   "cell_type": "code",
   "execution_count": 103,
   "metadata": {},
   "outputs": [],
   "source": [
    "import numpy as np\n",
    "prediction = model.predict(x_test[:50])"
   ]
  },
  {
   "cell_type": "code",
   "execution_count": 102,
   "metadata": {},
   "outputs": [
    {
     "data": {
      "text/plain": [
       "array([7, 2, 1, 0, 4, 1, 4, 9, 5, 9, 0, 6, 9, 0, 1, 5, 9, 7, 3, 4, 9, 6,\n",
       "       6, 5, 4, 0, 7, 4, 0, 1, 3, 1, 3, 4, 7, 2, 7, 1, 2, 1, 1, 7, 4, 2,\n",
       "       3, 5, 1, 2, 4, 4])"
      ]
     },
     "execution_count": 102,
     "metadata": {},
     "output_type": "execute_result"
    }
   ],
   "source": [
    "np.argmax(prediction, 1)"
   ]
  },
  {
   "cell_type": "code",
   "execution_count": 71,
   "metadata": {},
   "outputs": [],
   "source": [
    "tf.keras.models.save_model(model, 'test_tf_model')"
   ]
  },
  {
   "cell_type": "code",
   "execution_count": 74,
   "metadata": {},
   "outputs": [],
   "source": [
    "new_model = tf.keras.models.load_model('test_tf_model', compile=False)"
   ]
  },
  {
   "cell_type": "code",
   "execution_count": 85,
   "metadata": {},
   "outputs": [
    {
     "data": {
      "text/plain": [
       "True"
      ]
     },
     "execution_count": 85,
     "metadata": {},
     "output_type": "execute_result"
    }
   ],
   "source": [
    "all(np.argmax(new_model.predict(x_test[:50]), 1) == np.argmax(prediction, 1))"
   ]
  },
  {
   "cell_type": "code",
   "execution_count": 97,
   "metadata": {},
   "outputs": [],
   "source": [
    "(x_train, y_train),(x_test, y_test) = mnist.load_data()"
   ]
  },
  {
   "cell_type": "code",
   "execution_count": 98,
   "metadata": {},
   "outputs": [
    {
     "data": {
      "text/plain": [
       "dtype('uint8')"
      ]
     },
     "execution_count": 98,
     "metadata": {},
     "output_type": "execute_result"
    }
   ],
   "source": [
    "x_train[0].dtype"
   ]
  },
  {
   "cell_type": "code",
   "execution_count": 99,
   "metadata": {},
   "outputs": [
    {
     "data": {
      "text/plain": [
       "dtype('float64')"
      ]
     },
     "execution_count": 99,
     "metadata": {},
     "output_type": "execute_result"
    }
   ],
   "source": [
    "x_train, x_test = x_train / 255.0, x_test / 255.0\n",
    "x_train[0].dtype"
   ]
  }
 ],
 "metadata": {
  "kernelspec": {
   "display_name": "Python 3",
   "language": "python",
   "name": "python3"
  },
  "language_info": {
   "codemirror_mode": {
    "name": "ipython",
    "version": 3
   },
   "file_extension": ".py",
   "mimetype": "text/x-python",
   "name": "python",
   "nbconvert_exporter": "python",
   "pygments_lexer": "ipython3",
   "version": "3.6.5"
  }
 },
 "nbformat": 4,
 "nbformat_minor": 2
}
