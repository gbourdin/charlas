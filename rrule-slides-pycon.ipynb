{
 "metadata": {
  "celltoolbar": "Slideshow",
  "name": "",
  "signature": "sha256:cefb58a96fe3dcddb2570317bb3f3ed94067b49ba8144136bf1c45a579001ac1"
 },
 "nbformat": 3,
 "nbformat_minor": 0,
 "worksheets": [
  {
   "cells": [
    {
     "cell_type": "heading",
     "level": 2,
     "metadata": {
      "slideshow": {
       "slide_type": "slide"
      }
     },
     "source": [
      "Evitando lesiones autoinfligidas usando rrule"
     ]
    },
    {
     "cell_type": "heading",
     "level": 3,
     "metadata": {},
     "source": [
      "(o alg\u00fan titulo mas aburrido)"
     ]
    },
    {
     "cell_type": "markdown",
     "metadata": {},
     "source": [
      "<i class=\"icon-user icon\"> [German Bourdin](http://www.gbourdin.com/)</i>\n",
      "\n",
      "<i class=\"icon-twitter icon\"> [@g2k88](http://twitter.com/g2k88)</i>\n",
      "\n",
      "<i class=\"icon-github icon\"> [gbourdin](https://github.com/gbourdin)</i>\n",
      "\n",
      "<i class=\"icon-envelope-alt icon\"> <a href=\"mailto:german.bourdin@gmail.com\">german.bourdin@gmail.com</a></i>"
     ]
    },
    {
     "cell_type": "heading",
     "level": 1,
     "metadata": {
      "slideshow": {
       "slide_type": "slide"
      }
     },
     "source": [
      "Objetivos de esta charla"
     ]
    },
    {
     "cell_type": "markdown",
     "metadata": {},
     "source": [
      "<ol>\n",
      "<li>Entender la complejidad de dise\u00f1ar algoritmos que computan fechas basadas en reglas de recurrencia</li>\n",
      "<li>Entender como rrule soluciona estos problemas de manera simple e intuitiva a partir de un caso de estudio \"real\"</li>\n",
      "<li>Explorar algunas de las otras herramientas provistas por la libreria dateutil para solucionar de forma trivial problemas que involucran fechas</li>\n",
      "</ol>"
     ]
    },
    {
     "cell_type": "heading",
     "level": 1,
     "metadata": {
      "slideshow": {
       "slide_type": "slide"
      }
     },
     "source": [
      "Disclaimer"
     ]
    },
    {
     "cell_type": "markdown",
     "metadata": {
      "slideshow": {
       "slide_type": "fragment"
      }
     },
     "source": [
      "<li>En las filminas hay algo de c\u00f3digo de ejemplo, la idea era que sea simple de entender y r\u00e1pido de leer y no necesariamente <em>perfecto</em> as\u00ed que no se asusten si hay cosas que a los m\u00e1s experimentados les hacen dar ganas de agarrarse la cabeza y gritar \"NOOOO, NUNCA VAS A HACER ESO AS\u00cd, USA UN GENERADOR PAPARULO!\"</li>"
     ]
    },
    {
     "cell_type": "markdown",
     "metadata": {
      "slideshow": {
       "slide_type": "fragment"
      }
     },
     "source": [
      "<li>Similar a lo anterior, hay una parte donde digo \"```from blah import *```\", esto no se hace pero era m\u00e1s pr\u00e1ctico para lo que vamos a hacer hoy, no me peguen</li>"
     ]
    },
    {
     "cell_type": "markdown",
     "metadata": {
      "slideshow": {
       "slide_type": "fragment"
      }
     },
     "source": [
      "<li>Por si no lo sab\u00edan: el 1\u00ba de Enero de 1900 fu\u00e9 lunes</li>"
     ]
    },
    {
     "cell_type": "markdown",
     "metadata": {
      "slideshow": {
       "slide_type": "fragment"
      }
     },
     "source": [
      "<li>No me decido como pronunciar <em>rrule</em>, as\u00ed que no se sorprendan si lo digo de 10 formas diferentes durante la charla</li>\n",
      "    \n"
     ]
    },
    {
     "cell_type": "markdown",
     "metadata": {
      "slideshow": {
       "slide_type": "fragment"
      }
     },
     "source": [
      "<li>Como no me anime a estudiar cine, me saco las ganas haciendo estas cosas, y como <strong>expl\u00edcito es mejor que impl\u00edcito</strong> yo les voy a ir avisando en que parte de la pel\u00edcula estamos y como se tienen que sentir en cada momento</li>"
     ]
    },
    {
     "cell_type": "markdown",
     "metadata": {
      "slideshow": {
       "slide_type": "fragment"
      }
     },
     "source": [
      "Esta es la parte en la que se rien."
     ]
    },
    {
     "cell_type": "heading",
     "level": 1,
     "metadata": {
      "slideshow": {
       "slide_type": "slide"
      }
     },
     "source": [
      "<center>Primer Acto</center>"
     ]
    },
    {
     "cell_type": "heading",
     "level": 1,
     "metadata": {
      "slideshow": {
       "slide_type": "slide"
      }
     },
     "source": [
      "Motivaci\u00f3n"
     ]
    },
    {
     "cell_type": "markdown",
     "metadata": {
      "slideshow": {
       "slide_type": "fragment"
      }
     },
     "source": [
      "<p>Supongamos que un cliente nos pide una herramienta que le permita crear fechas recurrentes de manera similar a como lo hace <em>Google Calendar</em>.</p>"
     ]
    },
    {
     "cell_type": "markdown",
     "metadata": {
      "slideshow": {
       "slide_type": "fragment"
      }
     },
     "source": [
      "<p>Nuestro cliente quiere la misma flexibilidad para poder crear repeticiones diarias, semanales, mensuales y anuales.</p>"
     ]
    },
    {
     "cell_type": "heading",
     "level": 1,
     "metadata": {
      "slideshow": {
       "slide_type": "subslide"
      }
     },
     "source": [
      "\u00bfC\u00f3mo lo hace google calendar?"
     ]
    },
    {
     "cell_type": "heading",
     "level": 1,
     "metadata": {
      "slideshow": {
       "slide_type": "subslide"
      }
     },
     "source": [
      "Repeticiones Diarias"
     ]
    },
    {
     "cell_type": "markdown",
     "metadata": {},
     "source": [
      "<center><img src='static/img/repeat_daily.png'></center>"
     ]
    },
    {
     "cell_type": "heading",
     "level": 1,
     "metadata": {
      "slideshow": {
       "slide_type": "subslide"
      }
     },
     "source": [
      "Repeticiones Semanales"
     ]
    },
    {
     "cell_type": "markdown",
     "metadata": {},
     "source": [
      "<center><img src='static/img/repeat_weekly.png'></center>"
     ]
    },
    {
     "cell_type": "heading",
     "level": 1,
     "metadata": {
      "slideshow": {
       "slide_type": "subslide"
      }
     },
     "source": [
      "Repeticiones Semanales"
     ]
    },
    {
     "cell_type": "markdown",
     "metadata": {},
     "source": [
      "<center><img src='static/img/repeat_weekday.png'/></center>"
     ]
    },
    {
     "cell_type": "heading",
     "level": 1,
     "metadata": {
      "slideshow": {
       "slide_type": "subslide"
      }
     },
     "source": [
      "Repeticiones Semanales"
     ]
    },
    {
     "cell_type": "markdown",
     "metadata": {},
     "source": [
      "<center><img src='static/img/repeat_m_w_f.png'/></center>"
     ]
    },
    {
     "cell_type": "heading",
     "level": 1,
     "metadata": {
      "slideshow": {
       "slide_type": "subslide"
      }
     },
     "source": [
      "Repeticiones Semanales"
     ]
    },
    {
     "cell_type": "markdown",
     "metadata": {},
     "source": [
      "<center><img src='static/img/repeat_tu_th.png'></center>"
     ]
    },
    {
     "cell_type": "heading",
     "level": 1,
     "metadata": {
      "slideshow": {
       "slide_type": "subslide"
      }
     },
     "source": [
      "Repeticiones Mensuales"
     ]
    },
    {
     "cell_type": "markdown",
     "metadata": {},
     "source": [
      "<center><img src='static/img/repeat_monthly.png'/></center>"
     ]
    },
    {
     "cell_type": "heading",
     "level": 1,
     "metadata": {
      "slideshow": {
       "slide_type": "subslide"
      }
     },
     "source": [
      "Repeticiones Anuales"
     ]
    },
    {
     "cell_type": "markdown",
     "metadata": {},
     "source": [
      "<center><img src='static/img/repeat_yearly.png'/></center>"
     ]
    },
    {
     "cell_type": "heading",
     "level": 1,
     "metadata": {
      "slideshow": {
       "slide_type": "slide"
      }
     },
     "source": [
      "Resolviendo el problema de forma naive"
     ]
    },
    {
     "cell_type": "markdown",
     "metadata": {
      "slideshow": {
       "slide_type": "fragment"
      }
     },
     "source": [
      "<li> Esto no es tan dif\u00edcil, python tiene todo lo que necesito en <strong>datetime</strong></li>"
     ]
    },
    {
     "cell_type": "markdown",
     "metadata": {
      "slideshow": {
       "slide_type": "fragment"
      }
     },
     "source": [
      "<li>Voy a contruir una soluci\u00f3n con lo que trae python y te vas a arrepentir de haber hecho esta charla</li>"
     ]
    },
    {
     "cell_type": "markdown",
     "metadata": {
      "slideshow": {
       "slide_type": "fragment"
      }
     },
     "source": [
      "<li>Empecemos con las recurrencias diarias, estos problemas se hacen f\u00e1ciles si empezas con un caso base y vas agrandandolo para cubrir lo que necesitas.</li>"
     ]
    },
    {
     "cell_type": "heading",
     "level": 1,
     "metadata": {
      "slideshow": {
       "slide_type": "slide"
      }
     },
     "source": [
      "Recurrencias diarias - Usando \u00fanicamente built-ins"
     ]
    },
    {
     "cell_type": "heading",
     "level": 2,
     "metadata": {},
     "source": [
      "\u00bfQu\u00e9 hace falta?"
     ]
    },
    {
     "cell_type": "markdown",
     "metadata": {},
     "source": [
      "<ul>\n",
      "    <li>Una fecha de comienzo</li>\n",
      "    <li>La cantidad de d\u00edas entre evento y evento</li>\n",
      "    <li>Una fecha de finalizaci\u00f3n, o</li>\n",
      "    <li>Una cantidad de veces para repetir antes de finalizar</li>\n",
      "</ul>"
     ]
    },
    {
     "cell_type": "heading",
     "level": 2,
     "metadata": {},
     "source": [
      "\u00a1Eso es f\u00e1cil!"
     ]
    },
    {
     "cell_type": "heading",
     "level": 1,
     "metadata": {
      "slideshow": {
       "slide_type": "slide"
      }
     },
     "source": [
      "Recurrencias diarias - Usando \u00fanicamente built-ins"
     ]
    },
    {
     "cell_type": "code",
     "collapsed": false,
     "input": [
      "import datetime\n",
      "def compute_daily_recurrences(start_date, repeat_every=1,\n",
      "                              end_date=None, max_repetitions=None):\n",
      "    dates = []\n",
      "\n",
      "    # Calculemos la cantidad de repeticiones de antemano\n",
      "    if end_date:\n",
      "        repetitions = (\n",
      "            (end_date - start_date).days / repeat_every)\n",
      "    elif max_repetitions:\n",
      "        repetitions = max_repetitions\n",
      "\n",
      "    days_to_next_repetition = datetime.timedelta(days=repeat_every)\n",
      "    \n",
      "    next_date = start_date\n",
      "    for x in xrange(repetitions):\n",
      "        next_date = next_date + days_to_next_repetition\n",
      "        dates.append(next_date)\n",
      "\n",
      "    return dates"
     ],
     "language": "python",
     "metadata": {},
     "outputs": [],
     "prompt_number": 1
    },
    {
     "cell_type": "markdown",
     "metadata": {
      "slideshow": {
       "slide_type": "slide"
      }
     },
     "source": [
      "\u00bfViste? \u00a1Fue facil y anda! \u00a1Probemos!"
     ]
    },
    {
     "cell_type": "code",
     "collapsed": false,
     "input": [
      "start_date = datetime.datetime(1900, 1, 1)\n",
      "end_date = start_date + datetime.timedelta(days=7)\n",
      "print start_date"
     ],
     "language": "python",
     "metadata": {},
     "outputs": [
      {
       "output_type": "stream",
       "stream": "stdout",
       "text": [
        "1900-01-01 00:00:00\n"
       ]
      }
     ],
     "prompt_number": 2
    },
    {
     "cell_type": "code",
     "collapsed": false,
     "input": [
      "compute_daily_recurrences(start_date=start_date, repeat_every=1, end_date=end_date)"
     ],
     "language": "python",
     "metadata": {
      "slideshow": {
       "slide_type": "subslide"
      }
     },
     "outputs": [
      {
       "metadata": {},
       "output_type": "pyout",
       "prompt_number": 3,
       "text": [
        "[datetime.datetime(1900, 1, 2, 0, 0),\n",
        " datetime.datetime(1900, 1, 3, 0, 0),\n",
        " datetime.datetime(1900, 1, 4, 0, 0),\n",
        " datetime.datetime(1900, 1, 5, 0, 0),\n",
        " datetime.datetime(1900, 1, 6, 0, 0),\n",
        " datetime.datetime(1900, 1, 7, 0, 0),\n",
        " datetime.datetime(1900, 1, 8, 0, 0)]"
       ]
      }
     ],
     "prompt_number": 3
    },
    {
     "cell_type": "code",
     "collapsed": false,
     "input": [
      "compute_daily_recurrences(start_date=start_date, repeat_every=1, max_repetitions=7)"
     ],
     "language": "python",
     "metadata": {
      "slideshow": {
       "slide_type": "fragment"
      }
     },
     "outputs": [
      {
       "metadata": {},
       "output_type": "pyout",
       "prompt_number": 4,
       "text": [
        "[datetime.datetime(1900, 1, 2, 0, 0),\n",
        " datetime.datetime(1900, 1, 3, 0, 0),\n",
        " datetime.datetime(1900, 1, 4, 0, 0),\n",
        " datetime.datetime(1900, 1, 5, 0, 0),\n",
        " datetime.datetime(1900, 1, 6, 0, 0),\n",
        " datetime.datetime(1900, 1, 7, 0, 0),\n",
        " datetime.datetime(1900, 1, 8, 0, 0)]"
       ]
      }
     ],
     "prompt_number": 4
    },
    {
     "cell_type": "code",
     "collapsed": false,
     "input": [
      "compute_daily_recurrences(start_date=start_date, repeat_every=7, max_repetitions=3)"
     ],
     "language": "python",
     "metadata": {
      "slideshow": {
       "slide_type": "subslide"
      }
     },
     "outputs": [
      {
       "metadata": {},
       "output_type": "pyout",
       "prompt_number": 5,
       "text": [
        "[datetime.datetime(1900, 1, 8, 0, 0),\n",
        " datetime.datetime(1900, 1, 15, 0, 0),\n",
        " datetime.datetime(1900, 1, 22, 0, 0)]"
       ]
      }
     ],
     "prompt_number": 5
    },
    {
     "cell_type": "code",
     "collapsed": false,
     "input": [
      "compute_daily_recurrences(start_date=start_date, repeat_every=15, max_repetitions=12)"
     ],
     "language": "python",
     "metadata": {
      "slideshow": {
       "slide_type": "fragment"
      }
     },
     "outputs": [
      {
       "metadata": {},
       "output_type": "pyout",
       "prompt_number": 6,
       "text": [
        "[datetime.datetime(1900, 1, 16, 0, 0),\n",
        " datetime.datetime(1900, 1, 31, 0, 0),\n",
        " datetime.datetime(1900, 2, 15, 0, 0),\n",
        " datetime.datetime(1900, 3, 2, 0, 0),\n",
        " datetime.datetime(1900, 3, 17, 0, 0),\n",
        " datetime.datetime(1900, 4, 1, 0, 0),\n",
        " datetime.datetime(1900, 4, 16, 0, 0),\n",
        " datetime.datetime(1900, 5, 1, 0, 0),\n",
        " datetime.datetime(1900, 5, 16, 0, 0),\n",
        " datetime.datetime(1900, 5, 31, 0, 0),\n",
        " datetime.datetime(1900, 6, 15, 0, 0),\n",
        " datetime.datetime(1900, 6, 30, 0, 0)]"
       ]
      }
     ],
     "prompt_number": 6
    },
    {
     "cell_type": "heading",
     "level": 1,
     "metadata": {
      "slideshow": {
       "slide_type": "slide"
      }
     },
     "source": [
      "<center>Segundo Acto</center>"
     ]
    },
    {
     "cell_type": "heading",
     "level": 1,
     "metadata": {
      "slideshow": {
       "slide_type": "slide"
      }
     },
     "source": [
      "Recurrencias semanales - Usando \u00fanicamente built-ins"
     ]
    },
    {
     "cell_type": "raw",
     "metadata": {},
     "source": [
      "Recordemos"
     ]
    },
    {
     "cell_type": "markdown",
     "metadata": {},
     "source": [
      "<center><img src='static/img/repeat_weekly.png'></center>"
     ]
    },
    {
     "cell_type": "heading",
     "level": 1,
     "metadata": {
      "slideshow": {
       "slide_type": "slide"
      }
     },
     "source": [
      "Recurrencias semanales - Usando \u00fanicamente built-ins"
     ]
    },
    {
     "cell_type": "heading",
     "level": 2,
     "metadata": {},
     "source": [
      "\u00bfQu\u00e9 vamos a necesitar?"
     ]
    },
    {
     "cell_type": "markdown",
     "metadata": {},
     "source": [
      "<ul>\n",
      "    <li>Una fecha de comienzo</li>\n",
      "    <li>La cantidad de <strong>semanas</strong> entre <strong>grupo de eventos y grupo de eventos</strong></li>\n",
      "    <li><strong>Una lista de d\u00edas de la semana durante los cuales debemos repetir</strong></li>\n",
      "    <li>Una fecha de finalizaci\u00f3n, o</li>\n",
      "    <li>Una cantidad de veces para repetir antes de finalizar</li>\n",
      "</ul>"
     ]
    },
    {
     "cell_type": "heading",
     "level": 1,
     "metadata": {
      "slideshow": {
       "slide_type": "slide"
      }
     },
     "source": [
      "Recurrencias semanales - Usando \u00fanicamente built-ins"
     ]
    },
    {
     "cell_type": "heading",
     "level": 2,
     "metadata": {
      "slideshow": {
       "slide_type": "-"
      }
     },
     "source": [
      "\u00bfQu\u00e9 cambia?"
     ]
    },
    {
     "cell_type": "markdown",
     "metadata": {
      "slideshow": {
       "slide_type": "fragment"
      }
     },
     "source": [
      "<ul>\n",
      "    <li><strong>Una lista de d\u00edas de la semana durante los cuales debemos repetir</strong></li>\n",
      "</ul>"
     ]
    },
    {
     "cell_type": "markdown",
     "metadata": {
      "slideshow": {
       "slide_type": "fragment"
      }
     },
     "source": [
      "<p>Significa que vamos a necesitar distinguir los d\u00edas de la semana, y luego cuando calculemos fechas, poder pedir ese d\u00eda</p>"
     ]
    },
    {
     "cell_type": "heading",
     "level": 1,
     "metadata": {
      "slideshow": {
       "slide_type": "slide"
      }
     },
     "source": [
      "Recurrencias semanales - Usando \u00fanicamente built-ins"
     ]
    },
    {
     "cell_type": "heading",
     "level": 2,
     "metadata": {
      "slideshow": {
       "slide_type": "fragment"
      }
     },
     "source": [
      "Bueno. pero eso no es tan dif\u00edcil"
     ]
    },
    {
     "cell_type": "markdown",
     "metadata": {
      "slideshow": {
       "slide_type": "fragment"
      }
     },
     "source": [
      "<p><strong>datetime</strong> nos deja identificar que d\u00eda de la semana corresponde a una fecha!</p>"
     ]
    },
    {
     "cell_type": "code",
     "collapsed": false,
     "input": [
      "start_date.weekday()"
     ],
     "language": "python",
     "metadata": {
      "slideshow": {
       "slide_type": "fragment"
      }
     },
     "outputs": [
      {
       "metadata": {},
       "output_type": "pyout",
       "prompt_number": 7,
       "text": [
        "0"
       ]
      }
     ],
     "prompt_number": 7
    },
    {
     "cell_type": "code",
     "collapsed": false,
     "input": [
      "MON = 0\n",
      "TUE = 1\n",
      "WED = 2\n",
      "THU = 3\n",
      "FRI = 4\n",
      "SAT = 5\n",
      "SUN = 6"
     ],
     "language": "python",
     "metadata": {
      "slideshow": {
       "slide_type": "fragment"
      }
     },
     "outputs": [],
     "prompt_number": 8
    },
    {
     "cell_type": "heading",
     "level": 1,
     "metadata": {
      "slideshow": {
       "slide_type": "slide"
      }
     },
     "source": [
      "Recurrencias semanales - Usando \u00fanicamente built-ins"
     ]
    },
    {
     "cell_type": "heading",
     "level": 2,
     "metadata": {
      "slideshow": {
       "slide_type": "-"
      }
     },
     "source": [
      "Genial, pensemos en el algoritmo entonces:"
     ]
    },
    {
     "cell_type": "markdown",
     "metadata": {},
     "source": [
      "<p>Vamos a tener que a partir de una fecha, poder ir eligiendo dentro de esa misma semana, los siguientes d\u00edas a partir de lo que se seleccion\u00f3.</p>\n",
      "<p>Supongamos que hoy es <strong>mi\u00e9rcoles</strong> y seleccionaron repetir <strong>jueves</strong> y <strong>viernes</strong> durante 3 semanas</p>\n",
      "<p>\u00bfCu\u00e1ndo es la pr\u00f3xima fecha? \u00bfY la siguiente?</p>"
     ]
    },
    {
     "cell_type": "heading",
     "level": 1,
     "metadata": {
      "slideshow": {
       "slide_type": "slide"
      }
     },
     "source": [
      "Recurrencias semanales - Usando \u00fanicamente built-ins"
     ]
    },
    {
     "cell_type": "code",
     "collapsed": false,
     "input": [
      "today = datetime.datetime(2014, 9, 17)\n",
      "today.weekday()"
     ],
     "language": "python",
     "metadata": {
      "slideshow": {
       "slide_type": "fragment"
      }
     },
     "outputs": [
      {
       "metadata": {},
       "output_type": "pyout",
       "prompt_number": 9,
       "text": [
        "2"
       ]
      }
     ],
     "prompt_number": 9
    },
    {
     "cell_type": "code",
     "collapsed": false,
     "input": [
      "repeat_on = [THU, FRI]\n",
      "next_event_on = min([x for x in repeat_on if x >= today.weekday()])\n",
      "# Pero esto fallaria si repeat_on fuera [MON]!\n",
      "print next_event_on"
     ],
     "language": "python",
     "metadata": {
      "slideshow": {
       "slide_type": "fragment"
      }
     },
     "outputs": [
      {
       "output_type": "stream",
       "stream": "stdout",
       "text": [
        "3\n"
       ]
      }
     ],
     "prompt_number": 10
    },
    {
     "cell_type": "code",
     "collapsed": false,
     "input": [
      "days_to_next_event = next_event_on - today.weekday()\n",
      "print days_to_next_event"
     ],
     "language": "python",
     "metadata": {
      "slideshow": {
       "slide_type": "fragment"
      }
     },
     "outputs": [
      {
       "output_type": "stream",
       "stream": "stdout",
       "text": [
        "1\n"
       ]
      }
     ],
     "prompt_number": 11
    },
    {
     "cell_type": "code",
     "collapsed": false,
     "input": [
      "next_event = today + datetime.timedelta(days_to_next_event)\n",
      "print next_event"
     ],
     "language": "python",
     "metadata": {
      "slideshow": {
       "slide_type": "fragment"
      }
     },
     "outputs": [
      {
       "output_type": "stream",
       "stream": "stdout",
       "text": [
        "2014-09-18 00:00:00\n"
       ]
      }
     ],
     "prompt_number": 12
    },
    {
     "cell_type": "heading",
     "level": 1,
     "metadata": {
      "slideshow": {
       "slide_type": "slide"
      }
     },
     "source": [
      "Recurrencias semanales - Usando \u00fanicamente built-ins"
     ]
    },
    {
     "cell_type": "heading",
     "level": 2,
     "metadata": {},
     "source": [
      "No entiendo. \u00bfQu\u00e9 quisiste probar?"
     ]
    },
    {
     "cell_type": "markdown",
     "metadata": {
      "slideshow": {
       "slide_type": "fragment"
      }
     },
     "source": [
      "<p>Bueno, acabamos de ver que vamos a poder saltar al pr\u00f3ximo d\u00eda en el que toca repetir y mas o menos ir haciendo lo que tenemos que hacer, pero:</p>\n",
      "<ul>\n",
      "    <li>Vamos a necesitar hacer algo de l\u00f3gica para ver si el pr\u00f3ximo d\u00eda es en la semana actual o en la pr\u00f3xima</li>\n",
      "    <li>\u00c1ntes de saltar a la pr\u00f3xima semana, tenemos que ver si se nos acabaron las repeticiones</li>\n",
      "    <li>Si nos dieron una fecha de finalizaci\u00f3n, ya no sabemos de entrada cuantas veces vamos a repetir. \u00a1Tenemos que tener cuidado siempre de no pasarnos!</li>\n",
      "    <li>Tenemos que pensar a que d\u00eda de la semana siguiente vamos a saltar cuando cambiemos de semana (al lunes probablemente)</li>\n",
      "    <li>Y no nos tenemos, olvidar \u00e1ntes de saltar a la siguiente semana, que es probable que haya que saltar mas de una semana si se eligi\u00f3 que se repita semanalmente cada X semanas con X > 1</li>\n",
      "</ul>"
     ]
    },
    {
     "cell_type": "markdown",
     "metadata": {
      "slideshow": {
       "slide_type": "fragment"
      }
     },
     "source": [
      "<p><strong>As\u00ed que, \u00e1ntes de programar esta parte, hay que sentarse un rato largo a pensar bien estos problemas con papel y lapiz</strong></p>"
     ]
    },
    {
     "cell_type": "heading",
     "level": 1,
     "metadata": {
      "slideshow": {
       "slide_type": "slide"
      }
     },
     "source": [
      "Recurrencias semanales - Usando \u00fanicamente built-ins"
     ]
    },
    {
     "cell_type": "heading",
     "level": 2,
     "metadata": {
      "slideshow": {
       "slide_type": "-"
      }
     },
     "source": [
      "Ok, la l\u00f3gica es un poco complicada, pero se puede hacer"
     ]
    },
    {
     "cell_type": "markdown",
     "metadata": {
      "slideshow": {
       "slide_type": "fragment"
      }
     },
     "source": [
      "<p>Notemos que no fue un paso tan chiquito desde el primer ejercicio a este, no hay mucha re-usabilidad y hay que introducir muchas cosas nuevas a nuestro c\u00f3digo y muchas posibles fuentes de error.</p>"
     ]
    },
    {
     "cell_type": "markdown",
     "metadata": {
      "slideshow": {
       "slide_type": "fragment"
      }
     },
     "source": [
      "<p><strong>\u00c1ntes de escribir mas c\u00f3digo, miremos lo que se viene</strong></p>"
     ]
    },
    {
     "cell_type": "heading",
     "level": 1,
     "metadata": {
      "slideshow": {
       "slide_type": "slide"
      }
     },
     "source": [
      "Recurrencias mensuales"
     ]
    },
    {
     "cell_type": "heading",
     "level": 2,
     "metadata": {},
     "source": [
      "Recordemos"
     ]
    },
    {
     "cell_type": "markdown",
     "metadata": {},
     "source": [
      "<center><img src='static/img/repeat_monthly.png'/></center>"
     ]
    },
    {
     "cell_type": "heading",
     "level": 1,
     "metadata": {
      "slideshow": {
       "slide_type": "slide"
      }
     },
     "source": [
      "Recurrencias mensuales"
     ]
    },
    {
     "cell_type": "heading",
     "level": 2,
     "metadata": {},
     "source": [
      "\u00bfQu\u00e9 cambia?"
     ]
    },
    {
     "cell_type": "markdown",
     "metadata": {
      "slideshow": {
       "slide_type": "fragment"
      }
     },
     "source": [
      "<p>Tenemos dos nuevas formas de repetici\u00f3n</p>"
     ]
    },
    {
     "cell_type": "heading",
     "level": 3,
     "metadata": {
      "slideshow": {
       "slide_type": "subslide"
      }
     },
     "source": [
      "Por d\u00eda del mes"
     ]
    },
    {
     "cell_type": "heading",
     "level": 4,
     "metadata": {
      "slideshow": {
       "slide_type": "fragment"
      }
     },
     "source": [
      "\u00bfQu\u00e9 significa?"
     ]
    },
    {
     "cell_type": "markdown",
     "metadata": {
      "slideshow": {
       "slide_type": "fragment"
      }
     },
     "source": [
      "<p>Que todas nuestras repeticiones tienen que ser en el mismo numero de d\u00eda que la fecha inicial.</p>"
     ]
    },
    {
     "cell_type": "markdown",
     "metadata": {
      "slideshow": {
       "slide_type": "fragment"
      }
     },
     "source": [
      "<ul>\n",
      "    <li>Caso com\u00fan: <strong>15 de marzo</strong>. El pr\u00f3ximo evento es el 15 de abril, f\u00e1cil!</li>\n",
      "    <li>Caso mas complicado: <strong>31 de marzo</strong>. \u00bfEl pr\u00f3ximo evento es el 30 de abril o el 31 de mayo?</li>\n",
      "    <li>Caso feo: <strong>31 de enero</strong>. \u00bfEl pr\u00f3ximo evento es el 28 de febrero?</li>\n",
      "    <li>Caso horrible: <strong>29 de febrero</strong>. \u00bfQu\u00e9 va a pasar dentro de 12 repeticiones, y dentro de 12 x 4?</li>\n",
      "</ul>"
     ]
    },
    {
     "cell_type": "heading",
     "level": 3,
     "metadata": {
      "slideshow": {
       "slide_type": "subslide"
      }
     },
     "source": [
      "Por d\u00eda de la semana"
     ]
    },
    {
     "cell_type": "heading",
     "level": 4,
     "metadata": {
      "slideshow": {
       "slide_type": "fragment"
      }
     },
     "source": [
      "\u00bfQu\u00e9 significa?"
     ]
    },
    {
     "cell_type": "markdown",
     "metadata": {
      "slideshow": {
       "slide_type": "fragment"
      }
     },
     "source": [
      "<p>Que todas nuestras repeticiones tienen que ser la misma ocurrencia de ese d\u00eda pero en meses diferentes, es decir, por ejemplo: el segundo domingo de todos los meses, o el tercer jueves de todos los meses.</p>"
     ]
    },
    {
     "cell_type": "markdown",
     "metadata": {
      "slideshow": {
       "slide_type": "fragment"
      }
     },
     "source": [
      "<ul>\n",
      "    <li>Caso com\u00fan: Si eleg\u00ed el primer lunes de enero, todas las repeticiones son el primer lunes del mes</li>\n",
      "    <li>Caso problem\u00e1tico: Eleg\u00ed el quinto lunes del mes, pero el siguiente mes solo tiene 4 lunes, qu\u00e9 hago?</li>\n",
      "</ul>"
     ]
    },
    {
     "cell_type": "heading",
     "level": 1,
     "metadata": {
      "slideshow": {
       "slide_type": "slide"
      }
     },
     "source": [
      "Recurrencias mensuales"
     ]
    },
    {
     "cell_type": "markdown",
     "metadata": {},
     "source": [
      "<p>Para agregar al problema, recordemos que <em>datetime.timedelta</em> la unidad m\u00e1s grande de tiempo que conoce son 'semanas', as\u00ed que tampoco podemos pedir datetime.timedelta(months=1) y mucho menos datetime.timedelta(years=1)</p>"
     ]
    },
    {
     "cell_type": "heading",
     "level": 1,
     "metadata": {
      "slideshow": {
       "slide_type": "slide"
      }
     },
     "source": [
      "\u00bfY Ahora?"
     ]
    },
    {
     "cell_type": "markdown",
     "metadata": {},
     "source": [
      "<center><img src='static/img/PullingHairOut.jpeg'/></center>\n",
      "<p><em>Photo Credit: <a href'http://communicatebetterblog.com/2013/03/'>http://communicatebetterblog.com/2013/03/</a></em></p>"
     ]
    },
    {
     "cell_type": "heading",
     "level": 1,
     "metadata": {
      "slideshow": {
       "slide_type": "slide"
      }
     },
     "source": [
      "<center>Tercer Acto</center>"
     ]
    },
    {
     "cell_type": "heading",
     "level": 1,
     "metadata": {
      "slideshow": {
       "slide_type": "slide"
      }
     },
     "source": [
      "\u00bfY Ahora?"
     ]
    },
    {
     "cell_type": "markdown",
     "metadata": {
      "slideshow": {
       "slide_type": "fragment"
      }
     },
     "source": [
      "Dos opciones:"
     ]
    },
    {
     "cell_type": "markdown",
     "metadata": {
      "slideshow": {
       "slide_type": "fragment"
      }
     },
     "source": [
      "1 - Nos pegamos un tiro en la rodilla y zafamos de trabajar por un tiempo. Mientras tanto, alguien con mas <strike>barba y/o menos pelo</strike> experiencia se va a encargar del tema."
     ]
    },
    {
     "cell_type": "markdown",
     "metadata": {
      "slideshow": {
       "slide_type": "fragment"
      }
     },
     "source": [
      "2 - Aprendemos a usar <strong>dateutil.rrule</strong> y nos ahorramos la lesi\u00f3n."
     ]
    },
    {
     "cell_type": "heading",
     "level": 1,
     "metadata": {
      "slideshow": {
       "slide_type": "slide"
      }
     },
     "source": [
      "rrule"
     ]
    },
    {
     "cell_type": "heading",
     "level": 2,
     "metadata": {
      "slideshow": {
       "slide_type": "fragment"
      }
     },
     "source": [
      "\u00bfQu\u00e9 es?"
     ]
    },
    {
     "cell_type": "markdown",
     "metadata": {
      "slideshow": {
       "slide_type": "fragment"
      }
     },
     "source": [
      "<ul>\n",
      "    <li><strong>rrule</strong>(Recurrence Rule) es una parte de la libreria <strong>python-dateutil</strong> que permite la computaci\u00f3n de fechas basadas en poderosas (pero simples) reglas de recurrencia</li>\n",
      "    <li>rrule utiliza un superset de las reglas especificadas en el <a href='ftp://ftp.rfc-editor.org/in-notes/rfc2445.txt'>RFC-2445 (Internet Calendaring and Scheduling Core Object Specification (iCalendar))</a></li>\n",
      "</ul>"
     ]
    },
    {
     "cell_type": "heading",
     "level": 2,
     "metadata": {
      "slideshow": {
       "slide_type": "fragment"
      }
     },
     "source": [
      "\u00bfC\u00f3mo lo obtengo?"
     ]
    },
    {
     "cell_type": "markdown",
     "metadata": {
      "slideshow": {
       "slide_type": "fragment"
      }
     },
     "source": [
      "Simple:\n",
      "<pre>pip install python-dateutil</pre>"
     ]
    },
    {
     "cell_type": "heading",
     "level": 2,
     "metadata": {
      "slideshow": {
       "slide_type": "fragment"
      }
     },
     "source": [
      "\u00bfComo lo uso?"
     ]
    },
    {
     "cell_type": "code",
     "collapsed": false,
     "input": [
      "from dateutil.rrule import *"
     ],
     "language": "python",
     "metadata": {
      "slideshow": {
       "slide_type": "fragment"
      }
     },
     "outputs": [],
     "prompt_number": 13
    },
    {
     "cell_type": "heading",
     "level": 1,
     "metadata": {
      "slideshow": {
       "slide_type": "slide"
      }
     },
     "source": [
      "rrule"
     ]
    },
    {
     "cell_type": "heading",
     "level": 2,
     "metadata": {},
     "source": [
      "rrule class"
     ]
    },
    {
     "cell_type": "markdown",
     "metadata": {
      "slideshow": {
       "slide_type": "fragment"
      }
     },
     "source": [
      "<p>Es la definici\u00f3n del objeto que computa reglas recurrentes. Su constructor acepta todas las keywords establecidas en el RFC como par\u00e1metros (excepto <em>byday</em>, que se renombr\u00f3 a </em>byweekday). El prototipo del constructor es:\n",
      "<pre>rrule(freq)</pre>\n",
      "Donde freq es uno de los siguientes: YEARLY, MONTHLY, WEEKLY, DAILY, HOURLY, MINUTELY, o SECONDLY.</p>"
     ]
    },
    {
     "cell_type": "heading",
     "level": 1,
     "metadata": {
      "slideshow": {
       "slide_type": "subslide"
      }
     },
     "source": [
      "rrule"
     ]
    },
    {
     "cell_type": "heading",
     "level": 2,
     "metadata": {},
     "source": [
      "rrule class (par\u00e1metros)"
     ]
    },
    {
     "cell_type": "markdown",
     "metadata": {
      "slideshow": {
       "slide_type": "fragment"
      }
     },
     "source": [
      "<p>rrule tambien acepta los siguientes par\u00e1metros:</p>"
     ]
    },
    {
     "cell_type": "markdown",
     "metadata": {
      "slideshow": {
       "slide_type": "fragment"
      }
     },
     "source": [
      "<li><strong>cache</strong>: Si se provee, debe ser un booleano (<em>True</em> o <em>False</em> indicando si los resultados seran cacheados o no, mejora mucho la performance si la misma regla se usa mas de una vez.</li>"
     ]
    },
    {
     "cell_type": "markdown",
     "metadata": {
      "slideshow": {
       "slide_type": "fragment"
      }
     },
     "source": [
      "<li><strong>dtstart</strong>: La fecha de inicio para la recurrencia. Si no se provee, utiliza datetime.now()</li>"
     ]
    },
    {
     "cell_type": "markdown",
     "metadata": {
      "slideshow": {
       "slide_type": "fragment"
      }
     },
     "source": [
      "<li><strong>interval</strong>: Es el intervalo entre cada iteraci\u00f3n de <em>freq</em>. Por ejemplo, si usamos <em>YEARLY</em> un intervalo de 2 significa una vez cada dos a\u00f1os, si usamos <em>DAILY</em>, es una vez cada dos d\u00edas, etc.</li>"
     ]
    },
    {
     "cell_type": "markdown",
     "metadata": {
      "slideshow": {
       "slide_type": "fragment"
      }
     },
     "source": [
      "<li><strong>wkst</strong>: El d\u00eda de comienzo de la semana, debe ser una de las siguientes constantes: MO, TU, WE, o un entero especificando el primer d\u00eda de la semana. Afectara recurrencias basadas en periodos semanales. El valor predeterminado para esto se obtiene de <em>calendar.firstweekday()</em> (usualmente el lunes), y se puede modificar usando <em>calendar.setfirstweekday()</em></li>"
     ]
    },
    {
     "cell_type": "markdown",
     "metadata": {
      "slideshow": {
       "slide_type": "fragment"
      }
     },
     "source": [
      "<li><strong>count</strong>: Cuantas ocurrencias van a ser generadas. Debe ser un entero.</li>"
     ]
    },
    {
     "cell_type": "markdown",
     "metadata": {
      "slideshow": {
       "slide_type": "fragment"
      }
     },
     "source": [
      "<li><strong>until</strong>: Si se especifica, debe ser una instancia de <em>datetime</em> que indicara el limite para la recurrencia. Si un evento coincide con este valor, esa sera la \u00faltima ocurrencia.</li>"
     ]
    },
    {
     "cell_type": "heading",
     "level": 1,
     "metadata": {
      "slideshow": {
       "slide_type": "subslide"
      }
     },
     "source": [
      "rrule"
     ]
    },
    {
     "cell_type": "heading",
     "level": 2,
     "metadata": {},
     "source": [
      "rrule class (par\u00e1metros)"
     ]
    },
    {
     "cell_type": "markdown",
     "metadata": {
      "slideshow": {
       "slide_type": "fragment"
      }
     },
     "source": [
      "<li><strong>bysetpos</strong>: Si se provee debe ser un entero o una secuencia de enteros positivos o negativos. Cada entero especifica un numero de ocurrencia correspondiente a la <em>nth</em> ocurrencia de la regla dentro del periodo de frecuencia. Por ejemplo:</li>\n",
      "<pre>rrule(MONTHLY, byweekday=(MO, TU, WE, TH, FR), bysetpos=-1, count=12)</pre>\n",
      "Nos dara el \u00faltimo d\u00eda habil de cada uno de los proximos 12 meses."
     ]
    },
    {
     "cell_type": "markdown",
     "metadata": {
      "slideshow": {
       "slide_type": "fragment"
      }
     },
     "source": [
      "<li><strong>bymonth</strong>: Si se provee debe ser un entero o secuencia de enteros que indicar\u00e1 los meses a los cuales se aplicar\u00e1 la recurrencia</li>"
     ]
    },
    {
     "cell_type": "markdown",
     "metadata": {
      "slideshow": {
       "slide_type": "fragment"
      }
     },
     "source": [
      "<li><strong>bymonthday</strong>: Si se provee debe ser un entero o secuencia de enteros que indicar\u00e1 los d\u00edas del mes a los cuales aplicar la recurrencia.</li>"
     ]
    },
    {
     "cell_type": "markdown",
     "metadata": {
      "slideshow": {
       "slide_type": "fragment"
      }
     },
     "source": [
      "<li><strong>byyearday</strong>: Si se provee debe ser un entero o secuencia de enteros que indicar\u00e1 los d\u00edas del a\u00f1o a los cuales se aplicar\u00e1 la recurrencia.</li>"
     ]
    },
    {
     "cell_type": "heading",
     "level": 1,
     "metadata": {
      "slideshow": {
       "slide_type": "subslide"
      }
     },
     "source": [
      "rrule"
     ]
    },
    {
     "cell_type": "heading",
     "level": 2,
     "metadata": {},
     "source": [
      "rrule class (par\u00e1metros)"
     ]
    },
    {
     "cell_type": "markdown",
     "metadata": {
      "slideshow": {
       "slide_type": "fragment"
      }
     },
     "source": [
      "<li><strong>byweekno</strong>: Si se provee debe ser un entero o secuencia de enteros. Indica los numeros de semana a los cuales aplicar la recurrencia. El significado de <em>'numero de semana'</em> esta especificado en <strong>ISO8601</strong> (la primera semana del a\u00f1o es aquella que contiene al menos 4 d\u00edas del nuevo a\u00f1o).</li>"
     ]
    },
    {
     "cell_type": "markdown",
     "metadata": {
      "slideshow": {
       "slide_type": "fragment"
      }
     },
     "source": [
      "<li><strong>byweekday</strong>: Si se provee, debe ser un entero (0 == MO) o secuencia de enteros, una de las constantes de weekday (MO, TU, etc) o una secuencia de ellas. Cuando se provea, define los d\u00edas de la semana a los cuales se aplicar\u00e1 la recurrencia. Tambien es posible usar un argumento n para la instancia de weekday que indicar\u00e1 la nth ocurrencia de ese weekday en el periodo. Por ejemplo: usando <em>byweekday=FR(+1)</em> combinado con <em>MONTHLY</em> o <em>YEARLY</em> y <em>BYMONTH</em>, nos dara el primer viernes del mes donde ocurre la recurrencia.</li>"
     ]
    },
    {
     "cell_type": "markdown",
     "metadata": {
      "slideshow": {
       "slide_type": "fragment"
      }
     },
     "source": [
      "<li><strong>byhour</strong>: Si se provee, debe ser un entero o secuencia de enteros indicando las horas a las cuales se aplicarar\u00e1 la recurrencia.</li>"
     ]
    },
    {
     "cell_type": "markdown",
     "metadata": {
      "slideshow": {
       "slide_type": "fragment"
      }
     },
     "source": [
      "<li><strong>byminute</strong>: Igual que <em>byhour</em> pero para minutos</li>"
     ]
    },
    {
     "cell_type": "markdown",
     "metadata": {
      "slideshow": {
       "slide_type": "fragment"
      }
     },
     "source": [
      "<li><strong>bysecond</strong>: Igual que <em>byhour</em> pero para segundos</li>"
     ]
    },
    {
     "cell_type": "markdown",
     "metadata": {
      "slideshow": {
       "slide_type": "fragment"
      }
     },
     "source": [
      "<li><strong>byeaster</strong>: Si se provee debe ser un entero o lista de enteros, indicar\u00e1n un offset desde el domingo de pascuas. Usar 0 para este offset dara el domingo de pascuas mismo.</li>"
     ]
    },
    {
     "cell_type": "heading",
     "level": 1,
     "metadata": {
      "slideshow": {
       "slide_type": "slide"
      }
     },
     "source": [
      "rrule"
     ]
    },
    {
     "cell_type": "heading",
     "level": 2,
     "metadata": {},
     "source": [
      "Algunos ejemplos"
     ]
    },
    {
     "cell_type": "markdown",
     "metadata": {
      "slideshow": {
       "slide_type": "fragment"
      }
     },
     "source": [
      "Regla diaria para 7 ocurrencias"
     ]
    },
    {
     "cell_type": "code",
     "collapsed": false,
     "input": [
      "list(rrule(DAILY, count=7, dtstart=start_date))"
     ],
     "language": "python",
     "metadata": {
      "slideshow": {
       "slide_type": "fragment"
      }
     },
     "outputs": [
      {
       "metadata": {},
       "output_type": "pyout",
       "prompt_number": 14,
       "text": [
        "[datetime.datetime(1900, 1, 1, 0, 0),\n",
        " datetime.datetime(1900, 1, 2, 0, 0),\n",
        " datetime.datetime(1900, 1, 3, 0, 0),\n",
        " datetime.datetime(1900, 1, 4, 0, 0),\n",
        " datetime.datetime(1900, 1, 5, 0, 0),\n",
        " datetime.datetime(1900, 1, 6, 0, 0),\n",
        " datetime.datetime(1900, 1, 7, 0, 0)]"
       ]
      }
     ],
     "prompt_number": 14
    },
    {
     "cell_type": "markdown",
     "metadata": {
      "slideshow": {
       "slide_type": "fragment"
      }
     },
     "source": [
      "Regla diaria hasta el 7 de enero de 1900"
     ]
    },
    {
     "cell_type": "code",
     "collapsed": false,
     "input": [
      "end_date = datetime.datetime(1900, 1, 7)\n",
      "list(rrule(DAILY, dtstart=start_date, until=end_date))"
     ],
     "language": "python",
     "metadata": {
      "slideshow": {
       "slide_type": "fragment"
      }
     },
     "outputs": [
      {
       "metadata": {},
       "output_type": "pyout",
       "prompt_number": 15,
       "text": [
        "[datetime.datetime(1900, 1, 1, 0, 0),\n",
        " datetime.datetime(1900, 1, 2, 0, 0),\n",
        " datetime.datetime(1900, 1, 3, 0, 0),\n",
        " datetime.datetime(1900, 1, 4, 0, 0),\n",
        " datetime.datetime(1900, 1, 5, 0, 0),\n",
        " datetime.datetime(1900, 1, 6, 0, 0),\n",
        " datetime.datetime(1900, 1, 7, 0, 0)]"
       ]
      }
     ],
     "prompt_number": 15
    },
    {
     "cell_type": "heading",
     "level": 1,
     "metadata": {
      "slideshow": {
       "slide_type": "subslide"
      }
     },
     "source": [
      "rrule"
     ]
    },
    {
     "cell_type": "heading",
     "level": 2,
     "metadata": {},
     "source": [
      "Algunos ejemplos"
     ]
    },
    {
     "cell_type": "markdown",
     "metadata": {
      "slideshow": {
       "slide_type": "fragment"
      }
     },
     "source": [
      "Un evento cada 15 d\u00edas, 6 veces"
     ]
    },
    {
     "cell_type": "code",
     "collapsed": false,
     "input": [
      "list(rrule(DAILY, count=6, dtstart=start_date, interval=15))"
     ],
     "language": "python",
     "metadata": {
      "slideshow": {
       "slide_type": "fragment"
      }
     },
     "outputs": [
      {
       "metadata": {},
       "output_type": "pyout",
       "prompt_number": 16,
       "text": [
        "[datetime.datetime(1900, 1, 1, 0, 0),\n",
        " datetime.datetime(1900, 1, 16, 0, 0),\n",
        " datetime.datetime(1900, 1, 31, 0, 0),\n",
        " datetime.datetime(1900, 2, 15, 0, 0),\n",
        " datetime.datetime(1900, 3, 2, 0, 0),\n",
        " datetime.datetime(1900, 3, 17, 0, 0)]"
       ]
      }
     ],
     "prompt_number": 16
    },
    {
     "cell_type": "markdown",
     "metadata": {
      "slideshow": {
       "slide_type": "fragment"
      }
     },
     "source": [
      "Semanalmente, martes y jueves, las proximas 3 semanas"
     ]
    },
    {
     "cell_type": "code",
     "collapsed": false,
     "input": [
      "list(rrule(WEEKLY, count=6, byweekday=(TU,TH), dtstart=start_date))"
     ],
     "language": "python",
     "metadata": {
      "slideshow": {
       "slide_type": "fragment"
      }
     },
     "outputs": [
      {
       "metadata": {},
       "output_type": "pyout",
       "prompt_number": 17,
       "text": [
        "[datetime.datetime(1900, 1, 2, 0, 0),\n",
        " datetime.datetime(1900, 1, 4, 0, 0),\n",
        " datetime.datetime(1900, 1, 9, 0, 0),\n",
        " datetime.datetime(1900, 1, 11, 0, 0),\n",
        " datetime.datetime(1900, 1, 16, 0, 0),\n",
        " datetime.datetime(1900, 1, 18, 0, 0)]"
       ]
      }
     ],
     "prompt_number": 17
    },
    {
     "cell_type": "heading",
     "level": 1,
     "metadata": {
      "slideshow": {
       "slide_type": "subslide"
      }
     },
     "source": [
      "rrule"
     ]
    },
    {
     "cell_type": "heading",
     "level": 2,
     "metadata": {},
     "source": [
      "Algunos Ejemplos"
     ]
    },
    {
     "cell_type": "markdown",
     "metadata": {
      "slideshow": {
       "slide_type": "fragment"
      }
     },
     "source": [
      "<p>El primer viernes de cada mes hasta mayo</p>"
     ]
    },
    {
     "cell_type": "code",
     "collapsed": false,
     "input": [
      "list(rrule(MONTHLY, byweekday=FR(1), dtstart=start_date,\n",
      "           until=datetime.datetime(1900, 5, 1)))"
     ],
     "language": "python",
     "metadata": {
      "slideshow": {
       "slide_type": "fragment"
      }
     },
     "outputs": [
      {
       "metadata": {},
       "output_type": "pyout",
       "prompt_number": 18,
       "text": [
        "[datetime.datetime(1900, 1, 5, 0, 0),\n",
        " datetime.datetime(1900, 2, 2, 0, 0),\n",
        " datetime.datetime(1900, 3, 2, 0, 0),\n",
        " datetime.datetime(1900, 4, 6, 0, 0)]"
       ]
      }
     ],
     "prompt_number": 18
    },
    {
     "cell_type": "markdown",
     "metadata": {
      "slideshow": {
       "slide_type": "fragment"
      }
     },
     "source": [
      "<p>Todos los martes 13 entre 2014 y 2016</p>"
     ]
    },
    {
     "cell_type": "code",
     "collapsed": false,
     "input": [
      "list(rrule(MONTHLY, byweekday=TU, bymonthday=13, \n",
      "           dtstart=datetime.datetime(2014, 1, 1),\n",
      "           until=datetime.datetime(2016, 12, 31))\n",
      "     )"
     ],
     "language": "python",
     "metadata": {
      "slideshow": {
       "slide_type": "fragment"
      }
     },
     "outputs": [
      {
       "metadata": {},
       "output_type": "pyout",
       "prompt_number": 19,
       "text": [
        "[datetime.datetime(2014, 5, 13, 0, 0),\n",
        " datetime.datetime(2015, 1, 13, 0, 0),\n",
        " datetime.datetime(2015, 10, 13, 0, 0),\n",
        " datetime.datetime(2016, 9, 13, 0, 0),\n",
        " datetime.datetime(2016, 12, 13, 0, 0)]"
       ]
      }
     ],
     "prompt_number": 19
    },
    {
     "cell_type": "heading",
     "level": 1,
     "metadata": {
      "slideshow": {
       "slide_type": "subslide"
      }
     },
     "source": [
      "rrule"
     ]
    },
    {
     "cell_type": "heading",
     "level": 2,
     "metadata": {
      "slideshow": {
       "slide_type": "-"
      }
     },
     "source": [
      "Algunos ejemplos"
     ]
    },
    {
     "cell_type": "markdown",
     "metadata": {},
     "source": [
      "<p>Hay muchos ejemplos mas en la documentaci\u00f3n, los pueden encontrar en <a href='https://labix.org/python-dateutil#head-1f7c5d0c956a96f26aa1de60b861f4d58180c1dd'>https://labix.org/python-dateutil#head-1f7c5d0c956a96f26aa1de60b861f4d58180c1dd</a>.</p>\n",
      "<p>La idea para esta charla era solo ver algunos para entender lo que se puede hacer.</p>"
     ]
    },
    {
     "cell_type": "heading",
     "level": 1,
     "metadata": {
      "slideshow": {
       "slide_type": "slide"
      }
     },
     "source": [
      "rrule"
     ]
    },
    {
     "cell_type": "heading",
     "level": 2,
     "metadata": {},
     "source": [
      "\u00bfY ahora?"
     ]
    },
    {
     "cell_type": "markdown",
     "metadata": {
      "slideshow": {
       "slide_type": "fragment"
      }
     },
     "source": [
      "<p>Con lo que vimos, parece que va a ser posible y mas mucho m\u00e1s f\u00e1cil de lo que creiamos definir las funciones que computen las reglas que queriamos, es mas, parece que esta casi todo hecho!</p>"
     ]
    },
    {
     "cell_type": "markdown",
     "metadata": {
      "slideshow": {
       "slide_type": "fragment"
      }
     },
     "source": [
      "<p>Asi que, \u00a1<strong>Manos a la obra!</strong></p>"
     ]
    },
    {
     "cell_type": "heading",
     "level": 1,
     "metadata": {
      "slideshow": {
       "slide_type": "slide"
      }
     },
     "source": [
      "Recurrencias diarias - Usando rrule"
     ]
    },
    {
     "cell_type": "markdown",
     "metadata": {
      "slideshow": {
       "slide_type": "fragment"
      }
     },
     "source": [
      "<p>\u00a1Empecemos con el que ya hab\u00edamos hecho!</p>"
     ]
    },
    {
     "cell_type": "code",
     "collapsed": false,
     "input": [
      "def compute_daily_recurrences(start_date, repeat_every=1,\n",
      "                              end_date=None, max_repetitions=None):\n",
      "    if end_date:\n",
      "        return(rrule(DAILY, dtstart=start_date, interval=repeat_every,\n",
      "                     until=end_date))\n",
      "    elif max_repetitions:\n",
      "        return(rrule(DAILY, dtstart=start_date, interval=repeat_every,\n",
      "                     count=max_repetitions))\n",
      "    else:\n",
      "        raise(Exception('Invalid Arguments!'))"
     ],
     "language": "python",
     "metadata": {
      "slideshow": {
       "slide_type": "fragment"
      }
     },
     "outputs": [],
     "prompt_number": 20
    },
    {
     "cell_type": "heading",
     "level": 1,
     "metadata": {
      "slideshow": {
       "slide_type": "subslide"
      }
     },
     "source": [
      "Recurrencias diarias - Usando rrule"
     ]
    },
    {
     "cell_type": "heading",
     "level": 2,
     "metadata": {},
     "source": [
      "\u00a1Eso fue mucho mas f\u00e1cil que antes! \u00a1Prob\u00e9moslo!"
     ]
    },
    {
     "cell_type": "code",
     "collapsed": false,
     "input": [
      "compute_daily_recurrences(start_date=start_date, max_repetitions=3)"
     ],
     "language": "python",
     "metadata": {
      "slideshow": {
       "slide_type": "fragment"
      }
     },
     "outputs": [
      {
       "metadata": {},
       "output_type": "pyout",
       "prompt_number": 21,
       "text": [
        "<dateutil.rrule.rrule at 0x9dd31ac>"
       ]
      }
     ],
     "prompt_number": 21
    },
    {
     "cell_type": "markdown",
     "metadata": {
      "slideshow": {
       "slide_type": "fragment"
      }
     },
     "source": [
      "<p>Esas no son las fechas que esperabamos, es cualquiera esto de <em>rrule</em>!</p>"
     ]
    },
    {
     "cell_type": "markdown",
     "metadata": {
      "slideshow": {
       "slide_type": "fragment"
      }
     },
     "source": [
      "<p>Es cierto, rrule no te devuelve una lista de fechas, devuelve algo mejor, <strong>un generador</strong>, vamos a hacer un poco de trampa para ver las fechas ac\u00e1</p>"
     ]
    },
    {
     "cell_type": "code",
     "collapsed": false,
     "input": [
      "list(compute_daily_recurrences(start_date=start_date, max_repetitions=3))"
     ],
     "language": "python",
     "metadata": {
      "slideshow": {
       "slide_type": "fragment"
      }
     },
     "outputs": [
      {
       "metadata": {},
       "output_type": "pyout",
       "prompt_number": 22,
       "text": [
        "[datetime.datetime(1900, 1, 1, 0, 0),\n",
        " datetime.datetime(1900, 1, 2, 0, 0),\n",
        " datetime.datetime(1900, 1, 3, 0, 0)]"
       ]
      }
     ],
     "prompt_number": 22
    },
    {
     "cell_type": "heading",
     "level": 1,
     "metadata": {
      "slideshow": {
       "slide_type": "slide"
      }
     },
     "source": [
      "Recurrencias semanales - Usando rrule"
     ]
    },
    {
     "cell_type": "markdown",
     "metadata": {},
     "source": [
      "<p>Esta era mas d\u00edficil, teniamos una lista de d\u00edas en los cuales se iba a repetir la regla</p>\n",
      "<p>Aun asi, vamos a ver que es super sencillo ahora</p>"
     ]
    },
    {
     "cell_type": "code",
     "collapsed": false,
     "input": [
      "def compute_weekly_recurrences(start_date, repeat_every=1, repeat_on=[],\n",
      "                               end_date=None, max_repetitions=None):\n",
      "    if end_date:\n",
      "        return(rrule(WEEKLY, dtstart=start_date, interval=repeat_every,\n",
      "                     byweekday=repeat_on, until=end_date))\n",
      "    elif max_repetitions:\n",
      "        return(rrule(WEEKLY, dtstart=start_date, interval=repeat_every,\n",
      "                     byweekday=repeat_on, count=max_repetitions))\n",
      "    else:\n",
      "        raise(Exception('Invalid Arguments'))"
     ],
     "language": "python",
     "metadata": {
      "slideshow": {
       "slide_type": "fragment"
      }
     },
     "outputs": [],
     "prompt_number": 23
    },
    {
     "cell_type": "markdown",
     "metadata": {
      "slideshow": {
       "slide_type": "fragment"
      }
     },
     "source": [
      "<p>\u00a1Casi igual que la anterior!</p>"
     ]
    },
    {
     "cell_type": "heading",
     "level": 1,
     "metadata": {
      "slideshow": {
       "slide_type": "subslide"
      }
     },
     "source": [
      "Recurrencias semanales - Usando rrule"
     ]
    },
    {
     "cell_type": "heading",
     "level": 2,
     "metadata": {},
     "source": [
      "\u00a1A probar!"
     ]
    },
    {
     "cell_type": "markdown",
     "metadata": {
      "slideshow": {
       "slide_type": "fragment"
      }
     },
     "source": [
      "<p>Repeticiones semanales, los martes, 3 eventos</p>"
     ]
    },
    {
     "cell_type": "code",
     "collapsed": false,
     "input": [
      "list(compute_weekly_recurrences(start_date, repeat_on=TU, max_repetitions=3))"
     ],
     "language": "python",
     "metadata": {
      "slideshow": {
       "slide_type": "fragment"
      }
     },
     "outputs": [
      {
       "metadata": {},
       "output_type": "pyout",
       "prompt_number": 24,
       "text": [
        "[datetime.datetime(1900, 1, 2, 0, 0),\n",
        " datetime.datetime(1900, 1, 9, 0, 0),\n",
        " datetime.datetime(1900, 1, 16, 0, 0)]"
       ]
      }
     ],
     "prompt_number": 24
    },
    {
     "cell_type": "markdown",
     "metadata": {
      "slideshow": {
       "slide_type": "fragment"
      }
     },
     "source": [
      "<p>Semanales, todos los d\u00edas de la semana, 10 eventos!</p>"
     ]
    },
    {
     "cell_type": "code",
     "collapsed": false,
     "input": [
      "list(compute_weekly_recurrences(start_date, repeat_on=[MO, TU, WE, TH, FR],\n",
      "                                max_repetitions=10))"
     ],
     "language": "python",
     "metadata": {
      "slideshow": {
       "slide_type": "fragment"
      }
     },
     "outputs": [
      {
       "metadata": {},
       "output_type": "pyout",
       "prompt_number": 25,
       "text": [
        "[datetime.datetime(1900, 1, 1, 0, 0),\n",
        " datetime.datetime(1900, 1, 2, 0, 0),\n",
        " datetime.datetime(1900, 1, 3, 0, 0),\n",
        " datetime.datetime(1900, 1, 4, 0, 0),\n",
        " datetime.datetime(1900, 1, 5, 0, 0),\n",
        " datetime.datetime(1900, 1, 8, 0, 0),\n",
        " datetime.datetime(1900, 1, 9, 0, 0),\n",
        " datetime.datetime(1900, 1, 10, 0, 0),\n",
        " datetime.datetime(1900, 1, 11, 0, 0),\n",
        " datetime.datetime(1900, 1, 12, 0, 0)]"
       ]
      }
     ],
     "prompt_number": 25
    },
    {
     "cell_type": "heading",
     "level": 1,
     "metadata": {
      "slideshow": {
       "slide_type": "slide"
      }
     },
     "source": [
      "Recurrencias mensuales - Usando rrule"
     ]
    },
    {
     "cell_type": "heading",
     "level": 2,
     "metadata": {
      "slideshow": {
       "slide_type": "-"
      }
     },
     "source": [
      "\u00bfCu\u00e1l era el problema?"
     ]
    },
    {
     "cell_type": "markdown",
     "metadata": {
      "slideshow": {
       "slide_type": "fragment"
      }
     },
     "source": [
      "<p>Ten\u00edamos la posibilidad de que sea <strong>por d\u00eda del mes</strong> o <strong>por d\u00eda de la semana</strong> y encima timedelta no sabe sumar meses!</p>"
     ]
    },
    {
     "cell_type": "heading",
     "level": 2,
     "metadata": {
      "slideshow": {
       "slide_type": "fragment"
      }
     },
     "source": [
      "\u00bfSe puede implementar?"
     ]
    },
    {
     "cell_type": "markdown",
     "metadata": {
      "slideshow": {
       "slide_type": "fragment"
      }
     },
     "source": [
      "<p>\u00a1<strong>Mas vale</strong>, de eso es la charla! Veamos:</p>"
     ]
    },
    {
     "cell_type": "heading",
     "level": 1,
     "metadata": {
      "slideshow": {
       "slide_type": "subslide"
      }
     },
     "source": [
      "Recurrencias mensuales - Usando rrule"
     ]
    },
    {
     "cell_type": "code",
     "collapsed": false,
     "input": [
      "from dateutil.rrule import weekday"
     ],
     "language": "python",
     "metadata": {
      "slideshow": {
       "slide_type": "skip"
      }
     },
     "outputs": [],
     "prompt_number": 26
    },
    {
     "cell_type": "code",
     "collapsed": false,
     "input": [
      "def compute_monthly_recurrences(start_date, repeat_every=1,\n",
      "                                day_of_the_week=False, day_of_the_month=False,\n",
      "                                end_date=None, max_repetitions=None):\n",
      "    \n",
      "    rule_arguments = dict()  # Podemos pasarle un diccionario, mas prolijo\n",
      "    rule_arguments['dtstart'] = start_date\n",
      "    rule_arguments['interval'] = repeat_every\n",
      "    \n",
      "    if day_of_the_week:\n",
      "        # Si el numero de semana no existe, (ej: febrero no tiene 5 lunes)\n",
      "        # usamos la ultima ocurrencia del dia en el mes\n",
      "        week_number = (start_date.day / 7) + 1\n",
      "        week_day = start_date.weekday()\n",
      "        rule_arguments['byweekday'] = [weekday(week_day, week_number),\n",
      "                                       weekday(week_day, -1)]\n",
      "        rule_arguments['bysetpos'] = 1  # Si matchea 2 cosas, la primera\n",
      "    \n",
      "    elif day_of_the_month:\n",
      "        # Si el dia del mes no existe (ej: 31), Usamos el ultimo dia del mes\n",
      "        rule_arguments['bymonthday'] = [start_date.day, -1]\n",
      "        rule_arguments['bysetpos'] = 1\n",
      "    \n",
      "    if end_date:\n",
      "        rule_arguments['until'] = end_date\n",
      "    else:\n",
      "        rule_arguments['count'] = max_repetitions\n",
      "    return rrule(MONTHLY, **rule_arguments)"
     ],
     "language": "python",
     "metadata": {},
     "outputs": [],
     "prompt_number": 27
    },
    {
     "cell_type": "heading",
     "level": 1,
     "metadata": {
      "slideshow": {
       "slide_type": "subslide"
      }
     },
     "source": [
      "Recurrencias mensuales - Usando rrule"
     ]
    },
    {
     "cell_type": "heading",
     "level": 2,
     "metadata": {
      "slideshow": {
       "slide_type": "-"
      }
     },
     "source": [
      "\u00a1Probemos!"
     ]
    },
    {
     "cell_type": "code",
     "collapsed": false,
     "input": [
      "list(compute_monthly_recurrences(start_date=datetime.datetime(1900,1,31),\n",
      "                                 day_of_the_month=True, max_repetitions=4))"
     ],
     "language": "python",
     "metadata": {
      "slideshow": {
       "slide_type": "fragment"
      }
     },
     "outputs": [
      {
       "metadata": {},
       "output_type": "pyout",
       "prompt_number": 28,
       "text": [
        "[datetime.datetime(1900, 1, 31, 0, 0),\n",
        " datetime.datetime(1900, 2, 28, 0, 0),\n",
        " datetime.datetime(1900, 3, 31, 0, 0),\n",
        " datetime.datetime(1900, 4, 30, 0, 0)]"
       ]
      }
     ],
     "prompt_number": 28
    },
    {
     "cell_type": "code",
     "collapsed": false,
     "input": [
      "# Enero de 2014 tiene 5 viernes, el ultimo es el 31,\n",
      "# febrero, marzo y abril tienen 4 y mayo tiene 5\n",
      "list(compute_monthly_recurrences(start_date=datetime.datetime(2014, 1, 31),\n",
      "                                 day_of_the_week=True, max_repetitions=5))"
     ],
     "language": "python",
     "metadata": {
      "slideshow": {
       "slide_type": "fragment"
      }
     },
     "outputs": [
      {
       "metadata": {},
       "output_type": "pyout",
       "prompt_number": 29,
       "text": [
        "[datetime.datetime(2014, 1, 31, 0, 0),\n",
        " datetime.datetime(2014, 2, 28, 0, 0),\n",
        " datetime.datetime(2014, 3, 28, 0, 0),\n",
        " datetime.datetime(2014, 4, 25, 0, 0),\n",
        " datetime.datetime(2014, 5, 30, 0, 0)]"
       ]
      }
     ],
     "prompt_number": 29
    },
    {
     "cell_type": "heading",
     "level": 1,
     "metadata": {
      "slideshow": {
       "slide_type": "subslide"
      }
     },
     "source": [
      "Recurrencias mensuales - Usando rrule"
     ]
    },
    {
     "cell_type": "markdown",
     "metadata": {},
     "source": [
      "<p>\u00a1Este era el caso m\u00e1s complicado y se hizo muy f\u00e1cil! \u00a1Hagamos el \u00faltimo asi nos vamos tranquilos!</p>"
     ]
    },
    {
     "cell_type": "heading",
     "level": 1,
     "metadata": {
      "slideshow": {
       "slide_type": "slide"
      }
     },
     "source": [
      "Recurrencia anual - Usando rrule"
     ]
    },
    {
     "cell_type": "markdown",
     "metadata": {},
     "source": [
      "Recordemos:"
     ]
    },
    {
     "cell_type": "markdown",
     "metadata": {
      "slideshow": {
       "slide_type": "fragment"
      }
     },
     "source": [
      "<center><img src='static/img/repeat_yearly.png'/></center>"
     ]
    },
    {
     "cell_type": "markdown",
     "metadata": {
      "slideshow": {
       "slide_type": "fragment"
      }
     },
     "source": [
      "<p>\u00a1Es casi igual a las diarias!</p>"
     ]
    },
    {
     "cell_type": "heading",
     "level": 1,
     "metadata": {
      "slideshow": {
       "slide_type": "subslide"
      }
     },
     "source": [
      "Recurrencia anual - Usando rrule"
     ]
    },
    {
     "cell_type": "heading",
     "level": 2,
     "metadata": {
      "slideshow": {
       "slide_type": "fragment"
      }
     },
     "source": [
      "\u00bfC\u00f3mo es el c\u00f3digo?"
     ]
    },
    {
     "cell_type": "code",
     "collapsed": false,
     "input": [
      "def compute_yearly_recurrences(start_date, repeat_every,\n",
      "                               end_date=None, max_repetitions=None):\n",
      "    rule_arguments = dict()\n",
      "    rule_arguments['dtstart'] = start_date\n",
      "    rule_arguments['interval'] = repeat_every\n",
      "\n",
      "    # Necesitamos esto extra para que no nos molesten los bisiestos\n",
      "    rule_arguments['bymonth'] = start_date.month\n",
      "    rule_arguments['bymonthday'] = (start_date.day, -1)\n",
      "    rule_arguments['bysetpos'] = 1\n",
      "\n",
      "    if end_date:\n",
      "        rule_arguments['until'] = end_date\n",
      "    else:\n",
      "        rule_arguments['count'] = max_repetitions\n",
      "\n",
      "    return rrule(YEARLY, **rule_arguments)"
     ],
     "language": "python",
     "metadata": {
      "slideshow": {
       "slide_type": "fragment"
      }
     },
     "outputs": [],
     "prompt_number": 30
    },
    {
     "cell_type": "heading",
     "level": 1,
     "metadata": {
      "slideshow": {
       "slide_type": "subslide"
      }
     },
     "source": [
      "Recurrencia anual - Usando rrule"
     ]
    },
    {
     "cell_type": "heading",
     "level": 2,
     "metadata": {
      "slideshow": {
       "slide_type": "fragment"
      }
     },
     "source": [
      "\u00a1Probemos!"
     ]
    },
    {
     "cell_type": "markdown",
     "metadata": {
      "slideshow": {
       "slide_type": "fragment"
      }
     },
     "source": [
      "<p>El \u00faltimo d\u00eda de febrero desde 2012 hasta el 2017</p>"
     ]
    },
    {
     "cell_type": "code",
     "collapsed": false,
     "input": [
      "start_date = datetime.datetime(2012, 2, 29)\n",
      "end_date = datetime.datetime(2017, 2, 28)\n",
      "list(compute_yearly_recurrences(start_date, 1, end_date))"
     ],
     "language": "python",
     "metadata": {
      "slideshow": {
       "slide_type": "fragment"
      }
     },
     "outputs": [
      {
       "metadata": {},
       "output_type": "pyout",
       "prompt_number": 31,
       "text": [
        "[datetime.datetime(2012, 2, 29, 0, 0),\n",
        " datetime.datetime(2013, 2, 28, 0, 0),\n",
        " datetime.datetime(2014, 2, 28, 0, 0),\n",
        " datetime.datetime(2015, 2, 28, 0, 0),\n",
        " datetime.datetime(2016, 2, 29, 0, 0),\n",
        " datetime.datetime(2017, 2, 28, 0, 0)]"
       ]
      }
     ],
     "prompt_number": 31
    },
    {
     "cell_type": "heading",
     "level": 1,
     "metadata": {
      "slideshow": {
       "slide_type": "slide"
      }
     },
     "source": [
      "Algunas otras herramientas del dateutil"
     ]
    },
    {
     "cell_type": "heading",
     "level": 2,
     "metadata": {
      "slideshow": {
       "slide_type": "-"
      }
     },
     "source": [
      "relativedelta"
     ]
    },
    {
     "cell_type": "markdown",
     "metadata": {
      "slideshow": {
       "slide_type": "fragment"
      }
     },
     "source": [
      "<p>Mas temprano les contaba que <em>datetime.timedelta</em>, <strong>no sabe</strong> manejar espacios de tiempo mayores a una semana, as\u00ed que sumarle un mes a una fecha con eso, es imposible. Entre otras cosas <strong>dateutil.relativedelta</strong> soluciona esto y nos permite hacer cosas como las siguientes:</p>"
     ]
    },
    {
     "cell_type": "code",
     "collapsed": false,
     "input": [
      "from dateutil.relativedelta import relativedelta\n",
      "print datetime.datetime(2012, 2, 29) + relativedelta(years=1)\n",
      "print datetime.datetime(2012, 2, 29) + relativedelta(years=4)"
     ],
     "language": "python",
     "metadata": {
      "slideshow": {
       "slide_type": "fragment"
      }
     },
     "outputs": [
      {
       "output_type": "stream",
       "stream": "stdout",
       "text": [
        "2013-02-28 00:00:00\n",
        "2016-02-29 00:00:00\n"
       ]
      }
     ],
     "prompt_number": 32
    },
    {
     "cell_type": "code",
     "collapsed": false,
     "input": [
      "print datetime.datetime(1900, 1, 31) + relativedelta(months=1)\n",
      "print datetime.datetime(1900, 1, 31) + relativedelta(months=2)\n",
      "print datetime.datetime(1900, 1, 31) + relativedelta(months=3)"
     ],
     "language": "python",
     "metadata": {
      "slideshow": {
       "slide_type": "fragment"
      }
     },
     "outputs": [
      {
       "output_type": "stream",
       "stream": "stdout",
       "text": [
        "1900-02-28 00:00:00\n",
        "1900-03-31 00:00:00\n",
        "1900-04-30 00:00:00\n"
       ]
      }
     ],
     "prompt_number": 33
    },
    {
     "cell_type": "markdown",
     "metadata": {
      "slideshow": {
       "slide_type": "fragment"
      }
     },
     "source": [
      "<p>relativedelta tiene mucha mas funcionalidad, pero esta fuera del alcance de esta charla.</p>"
     ]
    },
    {
     "cell_type": "heading",
     "level": 1,
     "metadata": {
      "slideshow": {
       "slide_type": "subslide"
      }
     },
     "source": [
      "Algunas otras herramientas del dateutil"
     ]
    },
    {
     "cell_type": "heading",
     "level": 2,
     "metadata": {},
     "source": [
      "easter"
     ]
    },
    {
     "cell_type": "markdown",
     "metadata": {
      "slideshow": {
       "slide_type": "fragment"
      }
     },
     "source": [
      "<p><em>easter</em> es capaz de calcular la fecha del domingo de pascuas. Existen distintos m\u00e9todos para hacerlo y cubre 3 de ellos. Si estan interesados, pueden leer la documentacion</p>"
     ]
    },
    {
     "cell_type": "code",
     "collapsed": false,
     "input": [
      "from dateutil.easter import easter\n",
      "print easter(2014)\n",
      "print easter(2015)\n",
      "print easter(1492)"
     ],
     "language": "python",
     "metadata": {
      "slideshow": {
       "slide_type": "fragment"
      }
     },
     "outputs": [
      {
       "output_type": "stream",
       "stream": "stdout",
       "text": [
        "2014-04-20\n",
        "2015-04-05\n",
        "1492-03-27\n"
       ]
      }
     ],
     "prompt_number": 34
    },
    {
     "cell_type": "heading",
     "level": 1,
     "metadata": {
      "slideshow": {
       "slide_type": "slide"
      }
     },
     "source": [
      "Conclusi\u00f3n"
     ]
    },
    {
     "cell_type": "markdown",
     "metadata": {
      "slideshow": {
       "slide_type": "fragment"
      }
     },
     "source": [
      "<li>No es imposible implementar el c\u00f3digo que solucione este problema con las cosas que trae de f\u00e1brica python. Con un poco de paciencia se hace, despu\u00e9s de todo, dateutil y rrule est\u00e1n escritos en python</li>"
     ]
    },
    {
     "cell_type": "markdown",
     "metadata": {
      "slideshow": {
       "slide_type": "fragment"
      }
     },
     "source": [
      "<li>Sin embargo, <strong>no hay que re-inventar la rueda</strong>. rrule existe para solucionar este tipo de problemas, lo hace bien y sigue un standard</li>"
     ]
    },
    {
     "cell_type": "markdown",
     "metadata": {
      "slideshow": {
       "slide_type": "fragment"
      }
     },
     "source": [
      "<li>En particular, para imitar el funcionamiento de <em>Google Calendar</em> rrule es la herramienta perfecta. Acabamos de ver una implementaci\u00f3n (de juguete) que demuestra esto.</li>"
     ]
    },
    {
     "cell_type": "heading",
     "level": 1,
     "metadata": {
      "slideshow": {
       "slide_type": "slide"
      }
     },
     "source": [
      "M\u00e1s Informaci\u00f3n"
     ]
    },
    {
     "cell_type": "markdown",
     "metadata": {},
     "source": [
      "<p>\n",
      "<ul>\n",
      "    <li>La documentaci\u00f3n de dateutil es muy completa, pueden verla en: <a href='https://labix.org/python-dateutil#head-1f7c5d0c956a96f26aa1de60b861f4d58180c1dd'>https://labix.org/python-dateutil#head-1f7c5d0c956a96f26aa1de60b861f4d58180c1dd</a></li>\n",
      "    <li>La especificacion de iCalendar: <a href='ftp://ftp.rfc-editor.org/in-notes/rfc2445.txt'>RFC-2445 (Internet Calendaring and Scheduling Core Object Specification (iCalendar)) ftp://ftp.rfc-editor.org/in-notes/rfc2445.txt</a> tambien es una lectura interesante si quieren saber mas sobre fechas recurrentes</li>\n",
      "    <li>Estas filminas estan disponibles en <a href='http://gbourdin.github.io/charlas/rrule-slides-lujan.html'>http://gbourdin.github.io/charlas/rrule-slides-pycon.html</a>.</li>\n",
      "    <li>Siempre que quieran pueden pingearme por irc, o mandarme un mail o preguntarme en persona (en cuyo caso deberan traerme caf\u00e9) y puedo tratar de ayudarlos</li>\n",
      "</ul>\n",
      "</p>"
     ]
    },
    {
     "cell_type": "markdown",
     "metadata": {
      "slideshow": {
       "slide_type": "slide"
      }
     },
     "source": [
      "<center><img src='static/img/pycon_qr.png'/></center>"
     ]
    }
   ],
   "metadata": {}
  }
 ]
}